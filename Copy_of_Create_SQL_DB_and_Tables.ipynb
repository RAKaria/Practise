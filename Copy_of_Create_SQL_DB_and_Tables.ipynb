{
  "nbformat": 4,
  "nbformat_minor": 0,
  "metadata": {
    "colab": {
      "name": "Copy of Create SQL DB and Tables.ipynb",
      "provenance": [],
      "collapsed_sections": [],
      "include_colab_link": true
    },
    "kernelspec": {
      "name": "python3",
      "display_name": "Python 3"
    },
    "language_info": {
      "name": "python"
    }
  },
  "cells": [
    {
      "cell_type": "markdown",
      "metadata": {
        "id": "view-in-github",
        "colab_type": "text"
      },
      "source": [
        "<a href=\"https://colab.research.google.com/github/RAKaria/Practise/blob/main/Copy_of_Create_SQL_DB_and_Tables.ipynb\" target=\"_parent\"><img src=\"https://colab.research.google.com/assets/colab-badge.svg\" alt=\"Open In Colab\"/></a>"
      ]
    },
    {
      "cell_type": "code",
      "execution_count": null,
      "metadata": {
        "id": "5qHrzzryhDi5"
      },
      "outputs": [],
      "source": [
        "import sqlite3"
      ]
    },
    {
      "cell_type": "markdown",
      "source": [
        "Create a new Database 'esmartdata.sqlite3'\n",
        " "
      ],
      "metadata": {
        "id": "f-H64ByYmE7v"
      }
    },
    {
      "cell_type": "code",
      "source": [
        "conn = sqlite3.connect('esmartdata.sqlite3')\n",
        "c = conn.cursor()"
      ],
      "metadata": {
        "id": "cVAEr2AsmMbH"
      },
      "execution_count": null,
      "outputs": []
    },
    {
      "cell_type": "markdown",
      "source": [
        "Create Tables within new Database"
      ],
      "metadata": {
        "id": "heV_AdUsmr3J"
      }
    },
    {
      "cell_type": "code",
      "source": [
        "c.execute('''\n",
        "          DROP TABLE IF EXISTS esmartdata_instructor \n",
        "          ''')\n",
        "\n",
        "c.execute('''\n",
        "          CREATE TABLE esmartdata_instructor\n",
        "          ([id] INTEGER  AUTO_INCREMENT NOT NULL PRIMARY KEY, [first_Name] TEXT NOT NULL , [Last_Name] TEXT NOT NULL , [Description] TEXT NOT NULL)\n",
        "          ''')\n",
        "\n"
      ],
      "metadata": {
        "id": "Yf3GQSdahGLu"
      },
      "execution_count": null,
      "outputs": []
    },
    {
      "cell_type": "code",
      "source": [
        "c.execute('''\n",
        "          DROP TABLE IF EXISTS esmartdata_course \n",
        "          ''')\n",
        "\n",
        "c.execute('''\n",
        "          CREATE TABLE esmartdata_course\n",
        "          (\n",
        "          \"id\" INTEGER  AUTO_INCREMENT NOT NULL PRIMARY KEY, \n",
        "          \"title\" TEXT NOT NULL , \n",
        "          \"subtitle\" TEXT NOT NULL , \n",
        "          \"Description\" TEXT NOT NULL, \n",
        "          \"category\" TEXT NOT NULL, \n",
        "          \"subcategory\" TEXT NOT NULL, \n",
        "          \"language\" TEXT NOT NULL, \n",
        "          \"length\" TEXT NOT NULL, \n",
        "          \"rating\" TEXT NOT NULL, \n",
        "          \"referral_link\" TEXT NOT NULL, \n",
        "          FOREIGN KEY \"instructor_id\" REFERENCES esmartdata_instructor\"id\" TEXT NOT NULL ON DELETE CASCADE ON UPDATE CASCADE\n",
        "          )\n",
        "          ''')\n",
        "\n",
        "conn.commit()\n",
        "conn.close()"
      ],
      "metadata": {
        "id": "OrYhsXJbluz5"
      },
      "execution_count": null,
      "outputs": []
    }
  ]
}